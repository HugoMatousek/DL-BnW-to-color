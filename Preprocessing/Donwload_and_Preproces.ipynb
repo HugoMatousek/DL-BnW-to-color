{
  "nbformat": 4,
  "nbformat_minor": 0,
  "metadata": {
    "colab": {
      "name": "Copy of DataDownload_Preporcessing.ipynb",
      "provenance": [],
      "collapsed_sections": [],
      "toc_visible": true,
      "machine_shape": "hm"
    },
    "kernelspec": {
      "name": "python3",
      "display_name": "Python 3"
    },
    "language_info": {
      "name": "python"
    }
  },
  "cells": [
    {
      "cell_type": "markdown",
      "source": [
        "Follow these steps to connect to Kaggle (source of datasets). You will have to have an account there and an API access. Learn more [here](https://www.kaggle.com/general/74235)."
      ],
      "metadata": {
        "id": "kKxJ3pbyMaAT"
      }
    },
    {
      "cell_type": "code",
      "source": [
        "# Pip install Kaggle package\n",
        "! pip install -q kaggle"
      ],
      "metadata": {
        "id": "nmLJNDmhGV-e"
      },
      "execution_count": null,
      "outputs": []
    },
    {
      "cell_type": "code",
      "source": [
        "# Upload your Kaggle access API file here\n",
        "from google.colab import files\n",
        "\n",
        "files.upload()"
      ],
      "metadata": {
        "id": "cjxzB0rGGcVC"
      },
      "execution_count": null,
      "outputs": []
    },
    {
      "cell_type": "code",
      "source": [
        "# Save the API access file to the correct place\n",
        "! mkdir ~/.kaggle\n",
        "! cp kaggle.json ~/.kaggle/"
      ],
      "metadata": {
        "id": "2TPCgky_Ggm8"
      },
      "execution_count": null,
      "outputs": []
    },
    {
      "cell_type": "code",
      "source": [
        "# Set permissions\n",
        "! chmod 600 ~/.kaggle/kaggle.json"
      ],
      "metadata": {
        "id": "w_ZXK0O2GhTj"
      },
      "execution_count": null,
      "outputs": []
    },
    {
      "cell_type": "code",
      "source": [
        "# Test if your Kaggle access works\n",
        "! kaggle datasets list"
      ],
      "metadata": {
        "id": "cK9utJEPGj7R"
      },
      "execution_count": null,
      "outputs": []
    },
    {
      "cell_type": "markdown",
      "source": [
        "Prepare functions for datasets download and preprocessing"
      ],
      "metadata": {
        "id": "kMlvXChqNSEc"
      }
    },
    {
      "cell_type": "code",
      "source": [
        "# Imports\n",
        "import matplotlib.pyplot as plt\n",
        "import matplotlib.image as mpimg\n",
        "from skimage.color import rgb2lab, lab2rgb, rgb2gray\n",
        "from keras.preprocessing.image import ImageDataGenerator, array_to_img, img_to_array, load_img\n",
        "from PIL import Image\n",
        "import numpy as np\n",
        "import os\n",
        "import cv2"
      ],
      "metadata": {
        "id": "Ml8OdbyRy3T7"
      },
      "execution_count": null,
      "outputs": []
    },
    {
      "cell_type": "code",
      "source": [
        "# Helper function for debugging\n",
        "def show_image(image_path):\n",
        "    image = mpimg.imread(image_path)\n",
        "    plt.imshow(image)"
      ],
      "metadata": {
        "id": "SBugl1qIutlL"
      },
      "execution_count": null,
      "outputs": []
    },
    {
      "cell_type": "code",
      "source": [
        "# Crop images and resize them, the function first resizes the image, then throws away images that are too small, and finally cuts a square of 224x244 pixels from the middle\n",
        "def image_crop_resize(img_path):\n",
        "    image = Image.open(img_path)\n",
        "\n",
        "    maxwidth = 270\n",
        "    maxheight = 270\n",
        "    width = image.size[0]\n",
        "    height = image.size[1]\n",
        "    a = max(maxwidth/width, maxheight/height)\n",
        "\n",
        "    image.thumbnail((a*width,a*height))\n",
        "    mid = (image.size[0]/2,image.size[1]/2)\n",
        "\n",
        "    # Throw away images too small, also make sure that there is some extra edge space before cropping to avoid potential watermarks\n",
        "    if mid[0] < 125 or mid[1] < 125:\n",
        "      print('problem with '+ img_path)\n",
        "      return None\n",
        "      \n",
        "    image = image.crop((mid[0]-112,mid[1]-112,mid[0]+112,mid[1]+112))\n",
        "\n",
        "    return image"
      ],
      "metadata": {
        "id": "ciwRpxPj1C4k"
      },
      "execution_count": null,
      "outputs": []
    },
    {
      "cell_type": "code",
      "source": [
        "# Manages the image processing \n",
        "def process_images(input_folder,out_putfolder):\n",
        "    i = 0\n",
        "    non_suitable = 0\n",
        "    for file in os.listdir(input_folder):\n",
        "        if '.jpg' in file:\n",
        "            image_path = input_folder + file\n",
        "            to_save = image_crop_resize(image_path)\n",
        "            if not to_save == None:\n",
        "              to_save.save(out_putfolder + str(i) + '.jpg')\n",
        "            else:\n",
        "              non_suitable += 1\n",
        "\n",
        "            i += 1\n",
        "    # Number of images that were not used because they were too small\n",
        "    print('Images skipped: ' + str(non_suitable))"
      ],
      "metadata": {
        "id": "mzvkwb1n5N4X"
      },
      "execution_count": null,
      "outputs": []
    },
    {
      "cell_type": "markdown",
      "source": [
        "Download and preprocess the landscapes dataset"
      ],
      "metadata": {
        "id": "cXJhG0yUNZbz"
      }
    },
    {
      "cell_type": "code",
      "source": [
        "# Download the landscapes dataset\n",
        "! kaggle datasets download -d arnaud58/landscape-pictures"
      ],
      "metadata": {
        "id": "X6GZzEwormty"
      },
      "execution_count": null,
      "outputs": []
    },
    {
      "cell_type": "code",
      "source": [
        "# Create a lanscapes dataset folder\n",
        "! mkdir landscapes"
      ],
      "metadata": {
        "id": "l4uiTsTHrzmH"
      },
      "execution_count": null,
      "outputs": []
    },
    {
      "cell_type": "code",
      "source": [
        "# Unzip the landscapes dataset\n",
        "! unzip landscape-pictures.zip -d landscapes/ "
      ],
      "metadata": {
        "id": "TFZ_3d1duXb4"
      },
      "execution_count": null,
      "outputs": []
    },
    {
      "cell_type": "code",
      "source": [
        "# Create a folder for the prepared images\n",
        "! mkdir landscapes_cropped"
      ],
      "metadata": {
        "id": "17W-RQgs0qeU"
      },
      "execution_count": null,
      "outputs": []
    },
    {
      "cell_type": "code",
      "source": [
        "# Preprocess images\n",
        "process_images('landscapes/','landscapes_cropped/')"
      ],
      "metadata": {
        "id": "6qnCkkL9LL_u"
      },
      "execution_count": null,
      "outputs": []
    },
    {
      "cell_type": "markdown",
      "source": [
        "Download and preporcess the flicker8k dataset"
      ],
      "metadata": {
        "id": "aWG3am-jNdJH"
      }
    },
    {
      "cell_type": "code",
      "source": [
        "# Donwload the flicker8k dataset\n",
        "! kaggle datasets download -d adityajn105/flickr8k"
      ],
      "metadata": {
        "id": "MOEo4yFVJWwq"
      },
      "execution_count": null,
      "outputs": []
    },
    {
      "cell_type": "code",
      "source": [
        "# Unzip the dataset\n",
        "! unzip flickr8k.zip -d flicker/ "
      ],
      "metadata": {
        "id": "q13AqiFTJXxi"
      },
      "execution_count": null,
      "outputs": []
    },
    {
      "cell_type": "code",
      "source": [
        "# Create a folder for the prepared images\n",
        "! mkdir flicker_cropped"
      ],
      "metadata": {
        "id": "M0vNCQV4JsXA"
      },
      "execution_count": null,
      "outputs": []
    },
    {
      "cell_type": "code",
      "source": [
        "# Process the images\n",
        "process_images('flicker/Images/','flicker_cropped/') "
      ],
      "metadata": {
        "id": "ZTYLQyArKlnR"
      },
      "execution_count": null,
      "outputs": []
    },
    {
      "cell_type": "markdown",
      "source": [
        "Convert datasets to X and Y matrices (L and A+B channels)"
      ],
      "metadata": {
        "id": "LnpF6frrEXtG"
      }
    },
    {
      "cell_type": "code",
      "source": [
        "# Takes an image from a file and turns it into a np.array with the LAB channels\n",
        "def rgb2Lab(img):\n",
        "    img_rgb = cv2.imread(img, cv2.IMREAD_COLOR)\n",
        "    Lab = cv2.cvtColor(img_rgb, cv2.COLOR_RGB2LAB)\n",
        "    return Lab"
      ],
      "metadata": {
        "id": "nbIGaSgXo3mp"
      },
      "execution_count": null,
      "outputs": []
    },
    {
      "cell_type": "code",
      "source": [
        "# Gets the LAP channels for all the images in a selected folder\n",
        "def get_LAB(dataset_path):\n",
        "    LAB = []\n",
        "    for filename in os.listdir(dataset_path):\n",
        "        LAB.append(rgb2Lab(dataset_path+filename))\n",
        "    LAB = np.array(LAB, dtype=float)\n",
        "    return(LAB)"
      ],
      "metadata": {
        "id": "IgQkUjJFL1At"
      },
      "execution_count": null,
      "outputs": []
    },
    {
      "cell_type": "code",
      "source": [
        "# Returns the X and Y matrices in the correct shape for the model\n",
        "def get_channels(LAB):\n",
        "    X = LAB[:,:,:,0]\n",
        "    X = X.reshape(X.shape+(1,))\n",
        "    Y = LAB[:,:,:,1:]\n",
        "    return(X,Y)"
      ],
      "metadata": {
        "id": "ZOArXE6a3oB7"
      },
      "execution_count": null,
      "outputs": []
    },
    {
      "cell_type": "markdown",
      "source": [
        "Get X and Y matrices for the landscapes dataset"
      ],
      "metadata": {
        "id": "BDi8n3xGbCry"
      }
    },
    {
      "cell_type": "code",
      "source": [
        "ls_LAB = get_LAB('landscapes_cropped/')"
      ],
      "metadata": {
        "id": "f6jNh7tWrzTA"
      },
      "execution_count": null,
      "outputs": []
    },
    {
      "cell_type": "code",
      "source": [
        "ls_X, ls_Y = get_channels(ls_LAB)"
      ],
      "metadata": {
        "id": "uxBuxc4jkX1S"
      },
      "execution_count": null,
      "outputs": []
    },
    {
      "cell_type": "markdown",
      "source": [
        "Get X and Y matrices for the flicker8k dataset"
      ],
      "metadata": {
        "id": "opN109EHbKC9"
      }
    },
    {
      "cell_type": "code",
      "source": [
        "fl_LAB = get_LAB('flicker_cropped/')"
      ],
      "metadata": {
        "id": "vjdEdhw6EweT"
      },
      "execution_count": null,
      "outputs": []
    },
    {
      "cell_type": "code",
      "source": [
        "fl_x, fl_Y = get_channels(fl_LAB)"
      ],
      "metadata": {
        "id": "fae4O3wBE1yb"
      },
      "execution_count": null,
      "outputs": []
    }
  ]
}
